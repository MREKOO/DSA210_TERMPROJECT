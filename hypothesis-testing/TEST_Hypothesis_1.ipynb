{
  "cells": [
    {
      "cell_type": "markdown",
      "source": [
        "# Hypothesis Testing - Hypothesis #1\n",
        "\n",
        "With the python script we will test the following hypothesis, we will determine either if we will reject or fail to reject the Null Hypothesis\n",
        "\n",
        "**Null Hypothesis (H₀):** There is no distinct, unique pattern in the time I spend on each move in the games I won when the moves of the whole game are divided into equal phases. The time distribution pattern in winning games does not differ significantly from the time distribution pattern observed in games I lost. Any observed difference between winning and losing games is due to random variation rather than consistent patterns.\n",
        "\n",
        "**Alternative Hypothesis (H₁):** The time I spend on each move in the games I won follows a unique, distinct pattern when the moves of the whole game are divided into equal phases, and this pattern differs significantly from the time distribution pattern observed in games I lost.\n"
      ],
      "metadata": {
        "id": "yyNlbRJMAuul"
      },
      "id": "yyNlbRJMAuul"
    },
    {
      "cell_type": "markdown",
      "source": [
        "### Usage of the Script\n",
        "The following function must be included and defined in the main EDA script. After this, the function may be called in the main function to perform the hypothesis tests."
      ],
      "metadata": {
        "id": "phIrlcqNBgSS"
      },
      "id": "phIrlcqNBgSS"
    },
    {
      "cell_type": "markdown",
      "id": "e7569079",
      "metadata": {
        "id": "e7569079"
      },
      "source": [
        "### Function: `perform_hypothesis_tests`\n",
        "This function is responsible for perform hypothesis tests. Below is the implementation:"
      ]
    },
    {
      "cell_type": "code",
      "execution_count": 10,
      "id": "20fd6835",
      "metadata": {
        "colab": {
          "base_uri": "https://localhost:8080/"
        },
        "id": "20fd6835",
        "outputId": "a8aacfcf-efa5-47e9-a44d-2e4ee41e92ca"
      },
      "outputs": [
        {
          "output_type": "stream",
          "name": "stdout",
          "text": [
            "\n",
            "TIME DISTRIBUTION PATTERN HYPOTHESIS TEST\n",
            "==========================================\n",
            "\n",
            "All games:\n",
            "  1316 win games, 1148 loss games\n",
            "  Divided into 5 phases per game\n",
            "  Phase 1: Win avg = 19.16s, Loss avg = 1.93s → p = 0.0962 → ✗ Not significant (more time when winning)\n",
            "  Phase 2: Win avg = 6.90s, Loss avg = 4.33s → p = 0.3336 → ✗ Not significant (more time when winning)\n",
            "  Phase 3: Win avg = 12.28s, Loss avg = 5.56s → p = 0.1198 → ✗ Not significant (more time when winning)\n",
            "  Phase 4: Win avg = 15.99s, Loss avg = 3.62s → p = 0.0308 → ✓ Significant (more time when winning)\n",
            "  Phase 5: Win avg = 13.60s, Loss avg = 5.39s → p = 0.1524 → ✗ Not significant (more time when winning)\n",
            "\n",
            "  HYPOTHESIS TEST RESULT:\n",
            "  ✓ REJECT H₀: Time pattern differs in 1/5 phases\n",
            "\n",
            "Blitz games:\n",
            "  624 win games, 555 loss games\n",
            "  Divided into 5 phases per game\n",
            "  Phase 1: Win avg = 2.27s, Loss avg = 2.59s → p = 0.0017 → ✓ Significant (less time when winning)\n",
            "  Phase 2: Win avg = 4.65s, Loss avg = 5.21s → p = 0.0012 → ✓ Significant (less time when winning)\n",
            "  Phase 3: Win avg = 5.16s, Loss avg = 5.53s → p = 0.0429 → ✓ Significant (less time when winning)\n",
            "  Phase 4: Win avg = 4.94s, Loss avg = 4.50s → p = 0.0299 → ✓ Significant (more time when winning)\n",
            "  Phase 5: Win avg = 4.12s, Loss avg = 3.10s → p = 0.0000 → ✓ Significant (more time when winning)\n",
            "\n",
            "  HYPOTHESIS TEST RESULT:\n",
            "  ✓ REJECT H₀: Time pattern differs in 5/5 phases\n",
            "\n",
            "Bullet games:\n",
            "  630 win games, 556 loss games\n",
            "  Divided into 5 phases per game\n",
            "  Phase 1: Win avg = 0.96s, Loss avg = 1.02s → p = 0.0458 → ✓ Significant (less time when winning)\n",
            "  Phase 2: Win avg = 1.77s, Loss avg = 1.80s → p = 0.5372 → ✗ Not significant (less time when winning)\n",
            "  Phase 3: Win avg = 2.08s, Loss avg = 2.02s → p = 0.2656 → ✗ Not significant (more time when winning)\n",
            "  Phase 4: Win avg = 1.86s, Loss avg = 1.69s → p = 0.0063 → ✓ Significant (more time when winning)\n",
            "  Phase 5: Win avg = 1.47s, Loss avg = 1.32s → p = 0.0068 → ✓ Significant (more time when winning)\n",
            "\n",
            "  HYPOTHESIS TEST RESULT:\n",
            "  ✓ REJECT H₀: Time pattern differs in 3/5 phases\n",
            "\n",
            "Rapid games:\n",
            "  50 win games, 36 loss games\n",
            "  Divided into 5 phases per game\n",
            "  Phase 1: Win avg = 5.19s, Loss avg = 5.86s → p = 0.5177 → ✗ Not significant (less time when winning)\n",
            "  Phase 2: Win avg = 10.64s, Loss avg = 12.49s → p = 0.2471 → ✗ Not significant (less time when winning)\n",
            "  Phase 3: Win avg = 12.18s, Loss avg = 14.10s → p = 0.3580 → ✗ Not significant (less time when winning)\n",
            "  Phase 4: Win avg = 11.29s, Loss avg = 13.30s → p = 0.3121 → ✗ Not significant (less time when winning)\n",
            "  Phase 5: Win avg = 9.49s, Loss avg = 11.53s → p = 0.4773 → ✗ Not significant (less time when winning)\n",
            "\n",
            "  HYPOTHESIS TEST RESULT:\n",
            "  ✗ FAIL TO REJECT H₀: No significant pattern difference\n",
            "\n",
            "Daily games: Not enough move data.\n",
            "\n",
            "Hypothesis testing complete.\n"
          ]
        }
      ],
      "source": [
        "def perform_hypothesis_tests(results):\n",
        "    \"\"\"Test if phase-based time distributions differ between wins and losses.\"\"\"\n",
        "    import numpy as np\n",
        "    from scipy.stats import ttest_ind\n",
        "\n",
        "    categories = ['all', 'blitz', 'bullet', 'rapid', 'daily']\n",
        "    num_phases = 5\n",
        "\n",
        "    print(\"\\nTIME DISTRIBUTION PATTERN HYPOTHESIS TEST\")\n",
        "    print(\"==========================================\")\n",
        "\n",
        "    for category in categories:\n",
        "        win_data = results[category]['win']\n",
        "        loss_data = results[category]['loss']\n",
        "\n",
        "        if len(win_data) < 10 or len(loss_data) < 10:\n",
        "            print(f\"\\n{category.capitalize()} games: Not enough move data.\")\n",
        "            continue\n",
        "\n",
        "        def split_into_games(data):\n",
        "            games = []\n",
        "            current_game = []\n",
        "            last_move = 0\n",
        "            for move, time in data:\n",
        "                if move < last_move:  # move numbers reset → new game\n",
        "                    if len(current_game) > 5:\n",
        "                        games.append(current_game)\n",
        "                    current_game = []\n",
        "                current_game.append((move, time))\n",
        "                last_move = move\n",
        "            if len(current_game) > 5:\n",
        "                games.append(current_game)\n",
        "            return games\n",
        "\n",
        "        def compute_phase_vectors(games):\n",
        "            phase_vectors = []\n",
        "            for game in games:\n",
        "                moves = sorted(game, key=lambda x: x[0])\n",
        "                total_moves = moves[-1][0]\n",
        "                phase_size = max(1, total_moves // num_phases)\n",
        "                phases = [[] for _ in range(num_phases)]\n",
        "                for move_num, t in moves:\n",
        "                    idx = min((move_num - 1) // phase_size, num_phases - 1)\n",
        "                    phases[idx].append(t)\n",
        "                phase_avg = [np.mean(p) if p else 0 for p in phases]\n",
        "                phase_vectors.append(phase_avg)\n",
        "            return np.array(phase_vectors)\n",
        "\n",
        "        win_games = split_into_games(win_data)\n",
        "        loss_games = split_into_games(loss_data)\n",
        "\n",
        "        if len(win_games) < 3 or len(loss_games) < 3:\n",
        "            print(f\"\\n{category.capitalize()} games: Not enough full games with move data.\")\n",
        "            continue\n",
        "\n",
        "        win_matrix = compute_phase_vectors(win_games)\n",
        "        loss_matrix = compute_phase_vectors(loss_games)\n",
        "\n",
        "        print(f\"\\n{category.capitalize()} games:\")\n",
        "        print(f\"  {len(win_matrix)} win games, {len(loss_matrix)} loss games\")\n",
        "        print(f\"  Divided into {num_phases} phases per game\")\n",
        "\n",
        "        significant_phases = 0\n",
        "        for i in range(num_phases):\n",
        "            win_times = win_matrix[:, i]\n",
        "            loss_times = loss_matrix[:, i]\n",
        "\n",
        "            t_stat, p_val = ttest_ind(win_times, loss_times, equal_var=False)\n",
        "            sig = p_val < 0.05\n",
        "            if sig:\n",
        "                significant_phases += 1\n",
        "            win_mean = np.mean(win_times)\n",
        "            loss_mean = np.mean(loss_times)\n",
        "            direction = \"more\" if win_mean > loss_mean else \"less\"\n",
        "            print(f\"  Phase {i+1}: Win avg = {win_mean:.2f}s, Loss avg = {loss_mean:.2f}s → p = {p_val:.4f} → {'✓ Significant' if sig else '✗ Not significant'} ({direction} time when winning)\")\n",
        "\n",
        "        print(\"\\n  HYPOTHESIS TEST RESULT:\")\n",
        "        if significant_phases > 0:\n",
        "            print(f\"  ✓ REJECT H₀: Time pattern differs in {significant_phases}/{num_phases} phases\")\n",
        "        else:\n",
        "            print(\"  ✗ FAIL TO REJECT H₀: No significant pattern difference\")\n",
        "\n",
        "    print(\"\\nHypothesis testing complete.\")"
      ]
    }
  ],
  "metadata": {
    "colab": {
      "provenance": []
    },
    "language_info": {
      "name": "python"
    },
    "kernelspec": {
      "name": "python3",
      "display_name": "Python 3"
    }
  },
  "nbformat": 4,
  "nbformat_minor": 5
}